{
 "cells": [
  {
   "cell_type": "markdown",
   "id": "ed2377cf",
   "metadata": {},
   "source": [
    "# Hacking The Fender\n",
    "\n",
    "`The Fender`, a notorious computer hacker and general villain of the people, has compromised several top-secret passwords including your own. Your mission, should you choose to accept it, is threefold. You must acquire access to `The Fender`‘s systems, you must update his `\"passwords.txt\"` file to scramble the secret data. The last thing you need to do is add the signature of `Slash Null`, a different hacker whose nefarious deeds could be very conveniently halted by `The Fender` if they viewed `Slash Null` as a threat.\n",
    "\n",
    "Use your knowledge of working with Python files to retrieve, manipulate, obscure, and create data in your quest for justice. Work with CSV files and other text files in this exploration of the strength of Python file programming."
   ]
  },
  {
   "cell_type": "markdown",
   "id": "58000f6c",
   "metadata": {},
   "source": [
    "## Reading In The Passwords"
   ]
  },
  {
   "cell_type": "markdown",
   "id": "873a6c96",
   "metadata": {},
   "source": [
    "1. Are you there? We’ve opened up a communications link to `The Fender`‘s secret computer. We need you to write a program that will read in the compromised usernames and passwords that are stored in a file called \"passwords.csv\".\n",
    "\n",
    "    First import the CSV module, since we’ll be needing it to parse the data.\n"
   ]
  },
  {
   "cell_type": "code",
   "execution_count": 1,
   "id": "ea2a3cfb",
   "metadata": {},
   "outputs": [],
   "source": [
    "import csv"
   ]
  },
  {
   "cell_type": "markdown",
   "id": "59778bfa",
   "metadata": {},
   "source": [
    "2. We need to create a list of users whose passwords have been compromised, create a new list and save it to the variable `compromised_users`."
   ]
  },
  {
   "cell_type": "code",
   "execution_count": 2,
   "id": "ddacab36",
   "metadata": {},
   "outputs": [],
   "source": [
    "compromised_users = []"
   ]
  },
  {
   "cell_type": "markdown",
   "id": "90d15515",
   "metadata": {},
   "source": [
    "3. Next we’ll need you to open up the file itself. Store it in a file object called `password_file`.\n"
   ]
  },
  {
   "cell_type": "code",
   "execution_count": 5,
   "id": "921f11d4",
   "metadata": {},
   "outputs": [],
   "source": [
    "with open('passwords.csv') as password_file:\n",
    "    pass"
   ]
  },
  {
   "cell_type": "markdown",
   "id": "1b2aa606",
   "metadata": {},
   "source": [
    "4. Pass the `password_file` object holder to our CSV reader for parsing. Save the parsed `csv.DictReader` object as `password_csv`."
   ]
  },
  {
   "cell_type": "code",
   "execution_count": 6,
   "id": "c9e41f8f",
   "metadata": {},
   "outputs": [],
   "source": [
    "with open('passwords.csv') as password_file:\n",
    "    password_csv = csv.DictReader(password_file)"
   ]
  },
  {
   "cell_type": "markdown",
   "id": "c3c875de",
   "metadata": {},
   "source": [
    "5. Now we’ll want to iterate through each of the lines in the CSV.\n",
    "\n",
    "    Create a for loop and save each row of the CSV into the temporary variable `password_row`."
   ]
  },
  {
   "cell_type": "code",
   "execution_count": 9,
   "id": "80620338",
   "metadata": {},
   "outputs": [
    {
     "name": "stdout",
     "output_type": "stream",
     "text": [
      "{'Username': 'jean49', 'Password': 'Da*E%OuGuc9$V1m'}\n",
      "{'Username': 'haydenashley', 'Password': 'l$r^9eGg8f@BZhy'}\n",
      "{'Username': 'michaelastephens', 'Password': '$1sp++bga8H+eCr'}\n",
      "{'Username': 'denisephillips', 'Password': 'Vj)T7AsfRHkfpvw'}\n",
      "{'Username': 'andrew24', 'Password': 'T^mH8LMM&0C3VVk'}\n",
      "{'Username': 'kaylaabbott', 'Password': '!nN05pv3tc(DBO('}\n",
      "{'Username': 'tmartinez', 'Password': 'V46_Xx85_gKg7rt'}\n",
      "{'Username': 'mholden', 'Password': '(sd44x3x*A7D1dA'}\n",
      "{'Username': 'randygilbert', 'Password': 'A7+E0YfB+MLPJ8Z'}\n",
      "{'Username': 'watsonlouis', 'Password': 'i!4(DEkBLNq)C7G'}\n",
      "{'Username': 'mdavis', 'Password': 'c$2VXHnxQ+6ifpx'}\n",
      "{'Username': 'patrickprice', 'Password': 'Es_r0GlF&zDkJKG'}\n",
      "{'Username': 'kgriffith', 'Password': '%0dUpqgwFfA$Dma'}\n",
      "{'Username': 'hannasarah', 'Password': 'c(9au%x)tyC#HDd'}\n",
      "{'Username': 'xaviermartin', 'Password': 'e7!gWemxlde3K6p'}\n",
      "{'Username': 'hrodriguez', 'Password': 'od@9P!dfQj8NH&A'}\n",
      "{'Username': 'erodriguez', 'Password': 'hB+4A(si*vdHl4c'}\n",
      "{'Username': 'danielleclark', 'Password': '2lv3HKAs+Or8R48'}\n",
      "{'Username': 'timothy26', 'Password': 'oz7ExOUI2&*S87h'}\n",
      "{'Username': 'elizabeth19', 'Password': 'x3C8yYtI!(e3+z('}\n"
     ]
    }
   ],
   "source": [
    "with open('passwords.csv') as password_file:\n",
    "    password_csv = csv.DictReader(password_file)\n",
    "    for password_row in password_csv:\n",
    "        print(password_row)"
   ]
  },
  {
   "cell_type": "markdown",
   "id": "a5a10799",
   "metadata": {},
   "source": [
    "6. Inside your `for` loop, print out `password_row['Username']`. This is the username of the person whose password was compromised.\n",
    "\n",
    "    Run your code, do you see a list of usernames?\n"
   ]
  },
  {
   "cell_type": "code",
   "execution_count": 10,
   "id": "38be321f",
   "metadata": {},
   "outputs": [
    {
     "name": "stdout",
     "output_type": "stream",
     "text": [
      "jean49\n",
      "haydenashley\n",
      "michaelastephens\n",
      "denisephillips\n",
      "andrew24\n",
      "kaylaabbott\n",
      "tmartinez\n",
      "mholden\n",
      "randygilbert\n",
      "watsonlouis\n",
      "mdavis\n",
      "patrickprice\n",
      "kgriffith\n",
      "hannasarah\n",
      "xaviermartin\n",
      "hrodriguez\n",
      "erodriguez\n",
      "danielleclark\n",
      "timothy26\n",
      "elizabeth19\n"
     ]
    }
   ],
   "source": [
    "with open('passwords.csv') as password_file:\n",
    "    password_csv = csv.DictReader(password_file)\n",
    "    for password_row in password_csv:\n",
    "        print(password_row['Username'])"
   ]
  },
  {
   "cell_type": "markdown",
   "id": "dbf0995c",
   "metadata": {},
   "source": [
    "7. Remove the `print` statement. We want to add each username to the list of `compromised_users`. Use the list’s `.append()` method to add the username to `compromised_users` instead of printing them."
   ]
  },
  {
   "cell_type": "code",
   "execution_count": 14,
   "id": "f4eeb568",
   "metadata": {},
   "outputs": [
    {
     "name": "stdout",
     "output_type": "stream",
     "text": [
      "['jean49', 'haydenashley', 'michaelastephens', 'denisephillips', 'andrew24', 'kaylaabbott', 'tmartinez', 'mholden', 'randygilbert', 'watsonlouis', 'mdavis', 'patrickprice', 'kgriffith', 'hannasarah', 'xaviermartin', 'hrodriguez', 'erodriguez', 'danielleclark', 'timothy26', 'elizabeth19', 'jean49', 'haydenashley', 'michaelastephens', 'denisephillips', 'andrew24', 'kaylaabbott', 'tmartinez', 'mholden', 'randygilbert', 'watsonlouis', 'mdavis', 'patrickprice', 'kgriffith', 'hannasarah', 'xaviermartin', 'hrodriguez', 'erodriguez', 'danielleclark', 'timothy26', 'elizabeth19', 'jean49', 'haydenashley', 'michaelastephens', 'denisephillips', 'andrew24', 'kaylaabbott', 'tmartinez', 'mholden', 'randygilbert', 'watsonlouis', 'mdavis', 'patrickprice', 'kgriffith', 'hannasarah', 'xaviermartin', 'hrodriguez', 'erodriguez', 'danielleclark', 'timothy26', 'elizabeth19', 'jean49', 'haydenashley', 'michaelastephens', 'denisephillips', 'andrew24', 'kaylaabbott', 'tmartinez', 'mholden', 'randygilbert', 'watsonlouis', 'mdavis', 'patrickprice', 'kgriffith', 'hannasarah', 'xaviermartin', 'hrodriguez', 'erodriguez', 'danielleclark', 'timothy26', 'elizabeth19']\n"
     ]
    }
   ],
   "source": [
    "with open('passwords.csv') as password_file:\n",
    "    password_csv = csv.DictReader(password_file)\n",
    "    for row in password_csv:\n",
    "        compromised_users.append(row['Username'])\n",
    "        \n",
    "print(compromised_users)"
   ]
  },
  {
   "cell_type": "markdown",
   "id": "18bce630",
   "metadata": {},
   "source": [
    "8. Exit out of your `with` block for `\"passwords.csv\"`. We have all the data we need from that file.\n",
    "\n",
    "    Start a new `with` block, opening a file called `compromised_users.txt`. Open this file in write-mode, saving the file object as `compromised_user_file`."
   ]
  },
  {
   "cell_type": "code",
   "execution_count": 15,
   "id": "459b4ce7",
   "metadata": {},
   "outputs": [],
   "source": [
    "with open('compromised_users.txt', 'w') as compromised_user_file:\n",
    "    pass"
   ]
  },
  {
   "cell_type": "markdown",
   "id": "aad40166",
   "metadata": {},
   "source": [
    "9. Inside the new context-managed block opened by the `with` statement start a new `for` loop.\n",
    "\n",
    "    Iterate over each of your `compromised_users`."
   ]
  },
  {
   "cell_type": "code",
   "execution_count": 16,
   "id": "80e31601",
   "metadata": {},
   "outputs": [],
   "source": [
    "with open('compromised_users.txt', 'w') as compromised_user_file:\n",
    "    for user in compromised_users:\n",
    "        pass"
   ]
  },
  {
   "cell_type": "markdown",
   "id": "8c4f95dc",
   "metadata": {},
   "source": [
    "10. Write the username of each `compromised_user` in `compromised_users` to `compromised_user_file`."
   ]
  },
  {
   "cell_type": "code",
   "execution_count": 18,
   "id": "2ae383c3",
   "metadata": {},
   "outputs": [],
   "source": [
    "with open('compromised_users.txt', 'w') as compromised_user_file:\n",
    "    for user in compromised_users:\n",
    "        compromised_user_file.write(user)"
   ]
  },
  {
   "cell_type": "markdown",
   "id": "b38aa114",
   "metadata": {},
   "source": [
    "11. Exit out of that` with` block. You’re doing great so far! We’ve got the data we need to employ as insurance against `The Fender`."
   ]
  },
  {
   "cell_type": "markdown",
   "id": "b813b732",
   "metadata": {},
   "source": [
    "## Notifying the Boss"
   ]
  },
  {
   "cell_type": "markdown",
   "id": "9eb85ec7",
   "metadata": {},
   "source": [
    "12. Your boss needs to know that you were successful in retrieving that compromised data. We’ll need to send him an encoded message over the internet. Let’s use JSON to do that.\n",
    "\n",
    "    First we’ll need to import the `json` module."
   ]
  },
  {
   "cell_type": "code",
   "execution_count": 20,
   "id": "9eaff27d",
   "metadata": {},
   "outputs": [],
   "source": [
    "import json"
   ]
  },
  {
   "cell_type": "markdown",
   "id": "c6d4bd56",
   "metadata": {},
   "source": [
    "13. Open a new JSON file in write-mode called `boss_message.json`. Save the file object to the variable `boss_message`."
   ]
  },
  {
   "cell_type": "code",
   "execution_count": 21,
   "id": "32ef86bf",
   "metadata": {},
   "outputs": [],
   "source": [
    "with open('boss_message.json', 'w') as boss_message:\n",
    "    pass"
   ]
  },
  {
   "cell_type": "markdown",
   "id": "6bcf67bd",
   "metadata": {},
   "source": [
    "14. Create a Python dictionary object within your `with` statement that relays a boss message. Call this `boss_message_dict`.\n",
    "\n",
    "    Give it a `\"recipient\"` key with a value `\"The Boss\"`.\n",
    "\n",
    "    Also give it a `\"message\"` key with the value `\"Mission Success\"`."
   ]
  },
  {
   "cell_type": "code",
   "execution_count": 22,
   "id": "73b0f7ad",
   "metadata": {},
   "outputs": [],
   "source": [
    "with open('boss_message.json', 'w') as boss_message:\n",
    "    boss_message_dict = {\n",
    "        \"recipient\":\"The Boss\", \n",
    "        \"message\":\"Mission Success\"\n",
    "    }"
   ]
  },
  {
   "cell_type": "markdown",
   "id": "9b420032",
   "metadata": {},
   "source": [
    "15. Write out `boss_message_dict` to `boss_message` using `json.dump()`."
   ]
  },
  {
   "cell_type": "code",
   "execution_count": null,
   "id": "91688bff",
   "metadata": {},
   "outputs": [],
   "source": [
    "with open('boss_message.json', 'w') as boss_message:\n",
    "    boss_message_dict = {\n",
    "        \"recipient\":\"The Boss\", \n",
    "        \"message\":\"Mission Success\"\n",
    "    }\n",
    "    json.dump(boss_message_dict, boss_message)"
   ]
  },
  {
   "cell_type": "markdown",
   "id": "b319ad34",
   "metadata": {},
   "source": [
    "## Scrambling the Password"
   ]
  },
  {
   "cell_type": "markdown",
   "id": "9067ad56",
   "metadata": {},
   "source": [
    "16. Now that we’ve safely recovered the compromised users we’ll want to remove the `\"passwords.csv\"` file completely.\n",
    "\n",
    "    Create a new `with` block and open `\"new_passwords.csv\"` in write-mode. Save the file object to a variable called `new_passwords_obj`.\n"
   ]
  },
  {
   "cell_type": "code",
   "execution_count": 23,
   "id": "a9c9570e",
   "metadata": {},
   "outputs": [],
   "source": [
    "with open('new_passwords.csv', 'w') as new_passwords_obj:\n",
    "    pass"
   ]
  },
  {
   "cell_type": "markdown",
   "id": "a95c1aca",
   "metadata": {},
   "source": [
    "17. Enemy of the people, `Slash Null`, is who we want `The Fender` to think was behind this attack. He has a signature, whenever he hacks someone he adds this signature to one of the files he touches. Here is the signature:\n",
    "\n",
    "         _  _     ___   __  ____             \n",
    "        / )( \\   / __) /  \\(_  _)            \n",
    "        ) \\/ (  ( (_ \\(  O ) )(              \n",
    "        \\____/   \\___/ \\__/ (__)             \n",
    "         _  _   __    ___  __ _  ____  ____  \n",
    "        / )( \\ / _\\  / __)(  / )(  __)(    \\ \n",
    "        ) __ (/    \\( (__  )  (  ) _)  ) D ( \n",
    "        \\_)(_/\\_/\\_/ \\___)(__\\_)(____)(____/ \n",
    "                ____  __     __   ____  _  _ \n",
    "         ___   / ___)(  )   / _\\ / ___)/ )( \\\n",
    "        (___)  \\___ \\/ (_/\\/    \\\\___ \\) __ (\n",
    "               (____/\\____/\\_/\\_/(____/\\_)(_/\n",
    "         __ _  _  _  __    __                \n",
    "        (  ( \\/ )( \\(  )  (  )               \n",
    "        /    /) \\/ (/ (_/\\/ (_/\\             \n",
    "        \\_)__)\\____/\\____/\\____/\n",
    "\n",
    "Save that as a multiline string to the variable `slash_null_sig`.\n"
   ]
  },
  {
   "cell_type": "code",
   "execution_count": 25,
   "id": "14288996",
   "metadata": {},
   "outputs": [],
   "source": [
    "slash_null_sig = \"\"\"\n",
    " _  _     ___   __  ____             \n",
    "/ )( \\   / __) /  \\(_  _)            \n",
    ") \\/ (  ( (_ \\(  O ) )(              \n",
    "\\____/   \\___/ \\__/ (__)             \n",
    " _  _   __    ___  __ _  ____  ____  \n",
    "/ )( \\ / _\\  / __)(  / )(  __)(    \\ \n",
    ") __ (/    \\( (__  )  (  ) _)  ) D ( \n",
    "\\_)(_/\\_/\\_/ \\___)(__\\_)(____)(____/ \n",
    "        ____  __     __   ____  _  _ \n",
    " ___   / ___)(  )   / _\\ / ___)/ )( \\\n",
    "(___)  \\___ \\/ (_/\\/    \\\\___ \\) __ (\n",
    "       (____/\\____/\\_/\\_/(____/\\_)(_/\n",
    " __ _  _  _  __    __                \n",
    "(  ( \\/ )( \\(  )  (  )               \n",
    "/    /) \\/ (/ (_/\\/ (_/\\             \n",
    "\\_)__)\\____/\\____/\\____/\n",
    "\"\"\""
   ]
  },
  {
   "cell_type": "markdown",
   "id": "78212804",
   "metadata": {},
   "source": [
    "18. Write `slash_null_sig` to `new_passwords_obj`. Now we have the file to replace passwords.csv with!\n"
   ]
  },
  {
   "cell_type": "code",
   "execution_count": 26,
   "id": "5f345544",
   "metadata": {},
   "outputs": [],
   "source": [
    "with open('new_passwords.csv', 'w') as new_passwords_obj:\n",
    "      new_passwords_obj.write(slash_null_sig)"
   ]
  },
  {
   "cell_type": "markdown",
   "id": "cc189598",
   "metadata": {},
   "source": [
    "19. What an incredible success! We’ll take care of moving the new passwords file over the old one in case you want to practice hacking `The Fender` in the future.\n",
    "\n",
    "    Thank you for your service, programmer.\n"
   ]
  },
  {
   "cell_type": "code",
   "execution_count": 27,
   "id": "ff28d8a2",
   "metadata": {},
   "outputs": [],
   "source": [
    "# compromised_users.txt = \"jean49haydenashleymichaelastephensdenisephillipsandrew24kaylaabbotttmartinezmholdenrandygilbertwatsonlouismdavispatrickpricekgriffithhannasarahxaviermartinhrodriguezerodriguezdanielleclarktimothy26elizabeth19\""
   ]
  }
 ],
 "metadata": {
  "kernelspec": {
   "display_name": "Python 3 (ipykernel)",
   "language": "python",
   "name": "python3"
  },
  "language_info": {
   "codemirror_mode": {
    "name": "ipython",
    "version": 3
   },
   "file_extension": ".py",
   "mimetype": "text/x-python",
   "name": "python",
   "nbconvert_exporter": "python",
   "pygments_lexer": "ipython3",
   "version": "3.9.7"
  }
 },
 "nbformat": 4,
 "nbformat_minor": 5
}
